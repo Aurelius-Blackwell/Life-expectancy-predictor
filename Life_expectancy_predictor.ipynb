{
 "cells": [
  {
   "cell_type": "code",
   "execution_count": 7,
   "id": "37c5b5f4-20e6-4d33-8a73-0baf378ca30d",
   "metadata": {},
   "outputs": [],
   "source": [
    "import numpy as np\n",
    "import sys"
   ]
  },
  {
   "cell_type": "code",
   "execution_count": 19,
   "id": "3610b78c-ca5e-4170-a905-dd99a2fe4660",
   "metadata": {},
   "outputs": [],
   "source": [
    "def predict_life_expectancy():\n",
    "\n",
    "    # Sets blank string\n",
    "    full_model_y_n = ''\n",
    "    # Prompts the user to select either valid option (y/n) until one is selected.\n",
    "    while full_model_y_n != 'y' and full_model_y_n != 'n' and full_model_y_n != 'q':\n",
    "        print('Please input \"y\" for \"Yes\" or \"n\" for \"No\" or \"q\" for \"Quit\".')\n",
    "        try:\n",
    "            # Gives users the option to exclude metadata based on individuals' medical records.\n",
    "            full_model_y_n = str(input('Do you want to use data drawn from medical records? (Or press \"q\" for \"Quit\".)'))\n",
    "            if full_model_y_n == 'q':\n",
    "                print('Exiting function.')\n",
    "                sys.exit()\n",
    "                break\n",
    "            if full_model_y_n == 'y' or full_model_y_n == 'n':\n",
    "                break\n",
    "        except:\n",
    "            pass\n",
    "            \n",
    "    if full_model_y_n == 'y':\n",
    "        while True:\n",
    "            try:\n",
    "                year = int(input('What is the year?'))\n",
    "                # Warning that value lies outside of scaler range\n",
    "                if year < 2000 or year > 2015:\n",
    "                    print('WARNING: value lies outside of training data range and prediction may lose accuracy. Consider rebalancing model.')\n",
    "                break\n",
    "            except:\n",
    "                print('Please enter a number.')\n",
    "        while True:\n",
    "            try:\n",
    "                u5 = float(input('What is the number of deaths under 5 years old per 1000 people?'))\n",
    "                # Warning that value lies outside of scaler range\n",
    "                if u5 < 2.3 or u5 > 224.9:\n",
    "                    print('WARNING: value lies outside of training data range and prediction may lose accuracy. Consider rebalancing model.')\n",
    "                break\n",
    "            except:\n",
    "                print('Please enter a number.')\n",
    "        while True:\n",
    "            try:\n",
    "                am = float(input('What is the adult mortality rate?'))\n",
    "                # Warning that value lies outside of scaler range\n",
    "                if am < 49.384 or am > 703.677:\n",
    "                    print('WARNING: value lies outside of training data range and prediction may lose accuracy. Consider rebalancing model.')\n",
    "                break\n",
    "            except:\n",
    "                print('Please enter a number.')\n",
    "        while True:\n",
    "            try:\n",
    "                ac = float(input('What is the yearly alcohol consumption in litres per capita?'))\n",
    "                # Warning that value lies outside of scaler range\n",
    "                if ac < 0 or ac > 17.87:\n",
    "                    print('WARNING: value lies outside of training data range and prediction may lose accuracy. Consider rebalancing model.')\n",
    "                break\n",
    "            except:\n",
    "                print('Please enter a number.')\n",
    "        while True:\n",
    "            try:\n",
    "                bmi = float(input('What is the population\\'s average BMI?'))\n",
    "                # Warning that value lies outside of scaler range\n",
    "                if bmi < 19.8 or bmi > 32.1:\n",
    "                    print('WARNING: value lies outside of training data range and prediction may lose accuracy. Consider rebalancing model.')\n",
    "                break\n",
    "            except:\n",
    "                print('Please enter a number.')\n",
    "        while True:\n",
    "            try:\n",
    "                p = int(input('What is the percentage of polio vaccination coverage?'))\n",
    "                # Warning that value lies outside of scaler range\n",
    "                if p < 8 or p > 99:\n",
    "                    print('WARNING: value lies outside of training data range and prediction may lose accuracy. Consider rebalancing model.')\n",
    "                break\n",
    "            except:\n",
    "                print('Please enter a number.')\n",
    "        while True:\n",
    "            try:\n",
    "                hb = int(input('What is the percentage of hepatitis B vaccination coverage?'))\n",
    "                # Warning that value lies outside of scaler range\n",
    "                if hb < 8 or hb > 99:\n",
    "                    print('WARNING: value lies outside of training data range and prediction may lose accuracy. Consider rebalancing model.')\n",
    "                break\n",
    "            except:\n",
    "                print('Please enter a number.')\n",
    "        while True:\n",
    "            try:\n",
    "                thin = float(input('What is the percentage of medically recorded thinness among ages 10-19?'))\n",
    "                # Warning that value lies outside of scaler range\n",
    "                if thin < 0.1 or thin > 27.7:\n",
    "                    print('WARNING: value lies outside of training data range and prediction may lose accuracy. Consider rebalancing model.')\n",
    "                break\n",
    "            except:\n",
    "                print('Please enter a number.')\n",
    "        while True:\n",
    "            try:\n",
    "                hiv = float(input('How many HIV cases are there per 1000 live births?'))\n",
    "                # Warning that value lies outside of scaler range\n",
    "                if hiv < 0.01 or hiv > 21.68:\n",
    "                    print('WARNING: value lies outside of training data range and prediction may lose accuracy. Consider rebalancing model.')\n",
    "                break\n",
    "            except:\n",
    "                print('Please enter a number.')\n",
    "        while True:\n",
    "            try:\n",
    "                ecd = int(input('Is the economy status developed?'))\n",
    "                # Forces enternig a valid number\n",
    "                if ecd == 0 or ecd == 1:\n",
    "                    break\n",
    "                else:\n",
    "                    print('Please enter either exactly 0 (for No) or 1(for Yes).')\n",
    "            except:\n",
    "                pass\n",
    "        while True:\n",
    "            try:\n",
    "                sch = float(input('What is the average years of schooling for the population?'))\n",
    "                # Warning that value lies outside of scaler range\n",
    "                if sch < 1.1 or sch > 14:\n",
    "                    print('WARNING: value lies outside of training data range and prediction may lose accuracy. Consider rebalancing model.')\n",
    "                break\n",
    "            except:\n",
    "                print('Please enter a number.')\n",
    "        while True:\n",
    "            try:\n",
    "                GDP = float(input('What is the GDP per capita?'))\n",
    "                # Warning that value lies outside of scaler range\n",
    "                if GDP < 148 or GDP > 112418:\n",
    "                    print('WARNING: value lies outside of training data range and prediction may lose accuracy. Consider rebalancing model.')\n",
    "                # Transform GDP\n",
    "                gdp_l = np.log(GDP)\n",
    "                break\n",
    "            except:\n",
    "                print('Please enter a number.')\n",
    "\n",
    "        # Scaling the units of the variables to be between 0 and 1\n",
    "        sc_u5 = (u5 - 2.3)/(224.9 - 2.3)\n",
    "        sc_am = (am - 49.384)/(703.677 - 49.384)\n",
    "        sc_bmi = (bmi - 19.8)/(32.1-19.8)\n",
    "        sc_hb = (hb - 12)/(99-12)\n",
    "        sc_p = (p - 8)/(99-8)\n",
    "        sc_hiv = (hiv - 0.01)/(21.68-0.01)\n",
    "        sc_thin = (thin - 0.1)/(27.7-0.1)\n",
    "        sc_gdp_l = (gdp_l - 4.997212)/(11.629979-4.997212)\n",
    "        sc_ecd = ecd\n",
    "        sc_year = (year - 2000)/(2015-2000)\n",
    "        sc_ac = (ac - 0)/(17.87-0)\n",
    "        sc_sch = (sch - 1.1)/(14-1.1)\n",
    "\n",
    "        # Values, feature-engineered, multiplied by coefficients, adding the intercept and returning the predicted life expectancy.\n",
    "        return \"Predicted life expectancy: \" + str(round((76.3813 + sc_year*0.4487 + sc_u5*-16.8442 + sc_am*-30.8633 +\n",
    "                sc_ac*0.8901 + sc_bmi*-2.4692 + sc_p*1.1625 + sc_hb*-0.8044 +\n",
    "                sc_thin*-1.3312 + sc_hiv*1.2507 + sc_ecd*0.8520 +\n",
    "                sc_sch*0.9995 + sc_gdp_l*3.9510),2))\n",
    "\n",
    "    if full_model_y_n == 'n':\n",
    "        while True:\n",
    "            try:\n",
    "                year = int(input('What is the year?'))\n",
    "                # Warning that value lies outside of scaler range\n",
    "                if year < 2000 or year > 2015:\n",
    "                    print('WARNING: value lies outside of training data range and prediction may lose accuracy. Consider rebalancing model.')\n",
    "                break\n",
    "            except:\n",
    "                print('Please enter a number.')\n",
    "        while True:\n",
    "            try:\n",
    "                u5 = float(input('What is the number of deaths under 5 years old per 1000 people?'))\n",
    "                # Warning that value lies outside of scaler range\n",
    "                if u5 < 2.3 or u5 > 224.9:\n",
    "                    print('WARNING: value lies outside of training data range and prediction may lose accuracy. Consider rebalancing model.')\n",
    "                break\n",
    "            except:\n",
    "                print('Please enter a number.')\n",
    "        while True:\n",
    "            try:\n",
    "                am = float(input('What is the adult mortality rate?'))\n",
    "                # Warning that value lies outside of scaler range\n",
    "                if am < 49.384 or am > 703.677:\n",
    "                    print('WARNING: value lies outside of training data range and prediction may lose accuracy. Consider rebalancing model.')\n",
    "                break\n",
    "            except:\n",
    "                print('Please enter a number.')\n",
    "        while True:\n",
    "            try:\n",
    "                ac = float(input('What is the yearly alcohol consumption in litres per capita?'))\n",
    "                # Warning that value lies outside of scaler range\n",
    "                if ac < 0 or ac > 17.87:\n",
    "                    print('WARNING: value lies outside of training data range and prediction may lose accuracy. Consider rebalancing model.')\n",
    "                break\n",
    "            except:\n",
    "                print('Please enter a number.')\n",
    "        while True:\n",
    "            try:\n",
    "                ecd = int(input('Is the economy status developed?'))\n",
    "                # Forces enternig a valid number\n",
    "                if ecd == 0 or ecd == 1:\n",
    "                    break\n",
    "                else:\n",
    "                    print('Please enter either exactly 0 (for No) or 1(for Yes).')\n",
    "            except:\n",
    "                pass\n",
    "        while True:\n",
    "            try:\n",
    "                sch = float(input('What is the average years of schooling for the population?'))\n",
    "                # Warning that value lies outside of scaler range\n",
    "                if sch < 1.1 or sch > 14:\n",
    "                    print('WARNING: value lies outside of training data range and prediction may lose accuracy. Consider rebalancing model.')\n",
    "                break\n",
    "            except:\n",
    "                print('Please enter a number.')\n",
    "        while True:\n",
    "            try:\n",
    "                GDP = float(input('What is the GDP per capita?'))\n",
    "                # Warning that value lies outside of scaler range\n",
    "                if GDP < 148 or GDP > 112418:\n",
    "                    print('WARNING: value lies outside of training data range and prediction may lose accuracy. Consider rebalancing model.')\n",
    "                # Transform GDP\n",
    "                gdp_l = np.log(GDP)\n",
    "                break\n",
    "            except:\n",
    "                print('Please enter a number.')\n",
    "                \n",
    "        # Scaling the units of the variables to be between 0 and 1\n",
    "        sc_u5 = (u5 - 2.3)/(224.9 - 2.3)\n",
    "        sc_am = (am - 49.384)/(703.677 - 49.384)\n",
    "        sc_gdp_l = (gdp_l - 4.997212)/(11.629979-4.997212)\n",
    "        sc_ecd = ecd\n",
    "        sc_year = (year - 2000)/(2015-2000)\n",
    "        sc_ac = (ac - 0)/(17.87-0)\n",
    "        sc_sch = (sch - 1.1)/(14-1.1)\n",
    "\n",
    "        # Values, feature-engineered, multiplied by coefficients, adding the intercept and returning the predicted life expectancy.\n",
    "        return \"Predicted life expectancy: \" + str(round((75.6883 + sc_year*0.3419 + sc_u5*-16.9706 + sc_am*-29.9728 +\n",
    "                sc_ac*1.0791 + sc_ecd*1.2061 + sc_sch*0.6785 + sc_gdp_l*3.4130),2))"
   ]
  },
  {
   "cell_type": "code",
   "execution_count": 21,
   "id": "58c75929-a14e-4d8c-afab-6d117fee757a",
   "metadata": {},
   "outputs": [
    {
     "name": "stdout",
     "output_type": "stream",
     "text": [
      "Please input \"y\" for \"Yes\" or \"n\" for \"No\" or \"q\" for \"Quit\".\n"
     ]
    },
    {
     "name": "stdin",
     "output_type": "stream",
     "text": [
      "Do you want to use data drawn from medical records? (Or press \"q\" for \"Quit\".) n\n",
      "What is the year? 200\n"
     ]
    },
    {
     "name": "stdout",
     "output_type": "stream",
     "text": [
      "WARNING: value lies outside of training data range and prediction may lose accuracy. Consider rebalancing model.\n"
     ]
    },
    {
     "name": "stdin",
     "output_type": "stream",
     "text": [
      "What is the number of deaths under 5 years old per 1000 people? 1\n"
     ]
    },
    {
     "name": "stdout",
     "output_type": "stream",
     "text": [
      "WARNING: value lies outside of training data range and prediction may lose accuracy. Consider rebalancing model.\n"
     ]
    },
    {
     "name": "stdin",
     "output_type": "stream",
     "text": [
      "What is the adult mortality rate? 1\n"
     ]
    },
    {
     "name": "stdout",
     "output_type": "stream",
     "text": [
      "WARNING: value lies outside of training data range and prediction may lose accuracy. Consider rebalancing model.\n"
     ]
    },
    {
     "name": "stdin",
     "output_type": "stream",
     "text": [
      "What is the yearly alcohol consumption in litres per capita? 1\n",
      "Is the economy status developed? 1\n",
      "What is the average years of schooling for the population? 1\n"
     ]
    },
    {
     "name": "stdout",
     "output_type": "stream",
     "text": [
      "WARNING: value lies outside of training data range and prediction may lose accuracy. Consider rebalancing model.\n"
     ]
    },
    {
     "name": "stdin",
     "output_type": "stream",
     "text": [
      "What is the GDP per capita? 1\n"
     ]
    },
    {
     "name": "stdout",
     "output_type": "stream",
     "text": [
      "WARNING: value lies outside of training data range and prediction may lose accuracy. Consider rebalancing model.\n"
     ]
    },
    {
     "data": {
      "text/plain": [
       "'Predicted life expectancy: 35.67'"
      ]
     },
     "execution_count": 21,
     "metadata": {},
     "output_type": "execute_result"
    }
   ],
   "source": [
    "predict_life_expectancy()"
   ]
  },
  {
   "cell_type": "code",
   "execution_count": null,
   "id": "18f314e4-60e3-48e1-9e0d-3b7a2c87c796",
   "metadata": {},
   "outputs": [],
   "source": []
  }
 ],
 "metadata": {
  "kernelspec": {
   "display_name": "Python [conda env:base] *",
   "language": "python",
   "name": "conda-base-py"
  },
  "language_info": {
   "codemirror_mode": {
    "name": "ipython",
    "version": 3
   },
   "file_extension": ".py",
   "mimetype": "text/x-python",
   "name": "python",
   "nbconvert_exporter": "python",
   "pygments_lexer": "ipython3",
   "version": "3.12.7"
  }
 },
 "nbformat": 4,
 "nbformat_minor": 5
}
